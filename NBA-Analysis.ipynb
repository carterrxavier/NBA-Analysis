{
 "cells": [
  {
   "cell_type": "code",
   "execution_count": 2,
   "metadata": {},
   "outputs": [],
   "source": [
    "#markdown and scope of project goes here, scope of data"
   ]
  },
  {
   "cell_type": "code",
   "execution_count": 5,
   "metadata": {},
   "outputs": [],
   "source": [
    "import pandas as pd\n",
    "import numpy as np\n",
    "import Aquire as aq\n",
    "import Prepare as pr"
   ]
  },
  {
   "cell_type": "code",
   "execution_count": 29,
   "metadata": {},
   "outputs": [],
   "source": [
    "#Data Aquisition -- Grab NBA csv Files from \"NBA-Files\" file taken from \n",
    "players_df =  aq.get_players_raw()\n",
    "games_df = aq.get_games_raw()\n",
    "game_details_df = aq.get_game_details_raw()\n",
    "ranking_df = aq.get_ranking_raw()\n",
    "teams_df = aq.get_teams_raw()"
   ]
  },
  {
   "cell_type": "code",
   "execution_count": 7,
   "metadata": {},
   "outputs": [
    {
     "data": {
      "text/html": [
       "<div>\n",
       "<style scoped>\n",
       "    .dataframe tbody tr th:only-of-type {\n",
       "        vertical-align: middle;\n",
       "    }\n",
       "\n",
       "    .dataframe tbody tr th {\n",
       "        vertical-align: top;\n",
       "    }\n",
       "\n",
       "    .dataframe thead th {\n",
       "        text-align: right;\n",
       "    }\n",
       "</style>\n",
       "<table border=\"1\" class=\"dataframe\">\n",
       "  <thead>\n",
       "    <tr style=\"text-align: right;\">\n",
       "      <th></th>\n",
       "      <th>PLAYER_NAME</th>\n",
       "      <th>TEAM_ID</th>\n",
       "      <th>PLAYER_ID</th>\n",
       "      <th>SEASON</th>\n",
       "    </tr>\n",
       "  </thead>\n",
       "  <tbody>\n",
       "    <tr>\n",
       "      <th>0</th>\n",
       "      <td>Royce O'Neale</td>\n",
       "      <td>1610612762</td>\n",
       "      <td>1626220</td>\n",
       "      <td>2019</td>\n",
       "    </tr>\n",
       "    <tr>\n",
       "      <th>1</th>\n",
       "      <td>Bojan Bogdanovic</td>\n",
       "      <td>1610612762</td>\n",
       "      <td>202711</td>\n",
       "      <td>2019</td>\n",
       "    </tr>\n",
       "    <tr>\n",
       "      <th>2</th>\n",
       "      <td>Rudy Gobert</td>\n",
       "      <td>1610612762</td>\n",
       "      <td>203497</td>\n",
       "      <td>2019</td>\n",
       "    </tr>\n",
       "  </tbody>\n",
       "</table>\n",
       "</div>"
      ],
      "text/plain": [
       "        PLAYER_NAME     TEAM_ID  PLAYER_ID  SEASON\n",
       "0     Royce O'Neale  1610612762    1626220    2019\n",
       "1  Bojan Bogdanovic  1610612762     202711    2019\n",
       "2       Rudy Gobert  1610612762     203497    2019"
      ]
     },
     "execution_count": 7,
     "metadata": {},
     "output_type": "execute_result"
    }
   ],
   "source": [
    "players_df[:3]"
   ]
  },
  {
   "cell_type": "code",
   "execution_count": 8,
   "metadata": {},
   "outputs": [
    {
     "data": {
      "text/html": [
       "<div>\n",
       "<style scoped>\n",
       "    .dataframe tbody tr th:only-of-type {\n",
       "        vertical-align: middle;\n",
       "    }\n",
       "\n",
       "    .dataframe tbody tr th {\n",
       "        vertical-align: top;\n",
       "    }\n",
       "\n",
       "    .dataframe thead th {\n",
       "        text-align: right;\n",
       "    }\n",
       "</style>\n",
       "<table border=\"1\" class=\"dataframe\">\n",
       "  <thead>\n",
       "    <tr style=\"text-align: right;\">\n",
       "      <th></th>\n",
       "      <th>GAME_DATE_EST</th>\n",
       "      <th>GAME_ID</th>\n",
       "      <th>GAME_STATUS_TEXT</th>\n",
       "      <th>HOME_TEAM_ID</th>\n",
       "      <th>VISITOR_TEAM_ID</th>\n",
       "      <th>SEASON</th>\n",
       "      <th>TEAM_ID_home</th>\n",
       "      <th>PTS_home</th>\n",
       "      <th>FG_PCT_home</th>\n",
       "      <th>FT_PCT_home</th>\n",
       "      <th>...</th>\n",
       "      <th>AST_home</th>\n",
       "      <th>REB_home</th>\n",
       "      <th>TEAM_ID_away</th>\n",
       "      <th>PTS_away</th>\n",
       "      <th>FG_PCT_away</th>\n",
       "      <th>FT_PCT_away</th>\n",
       "      <th>FG3_PCT_away</th>\n",
       "      <th>AST_away</th>\n",
       "      <th>REB_away</th>\n",
       "      <th>HOME_TEAM_WINS</th>\n",
       "    </tr>\n",
       "  </thead>\n",
       "  <tbody>\n",
       "    <tr>\n",
       "      <th>0</th>\n",
       "      <td>2021-03-21</td>\n",
       "      <td>22000645</td>\n",
       "      <td>Final</td>\n",
       "      <td>1610612748</td>\n",
       "      <td>1610612754</td>\n",
       "      <td>2020</td>\n",
       "      <td>1610612748</td>\n",
       "      <td>106.0</td>\n",
       "      <td>0.402</td>\n",
       "      <td>0.826</td>\n",
       "      <td>...</td>\n",
       "      <td>27.0</td>\n",
       "      <td>51.0</td>\n",
       "      <td>1610612754</td>\n",
       "      <td>109.0</td>\n",
       "      <td>0.388</td>\n",
       "      <td>0.900</td>\n",
       "      <td>0.333</td>\n",
       "      <td>27.0</td>\n",
       "      <td>50.0</td>\n",
       "      <td>0</td>\n",
       "    </tr>\n",
       "    <tr>\n",
       "      <th>1</th>\n",
       "      <td>2021-03-21</td>\n",
       "      <td>22000016</td>\n",
       "      <td>Final</td>\n",
       "      <td>1610612745</td>\n",
       "      <td>1610612760</td>\n",
       "      <td>2020</td>\n",
       "      <td>1610612745</td>\n",
       "      <td>112.0</td>\n",
       "      <td>0.494</td>\n",
       "      <td>0.741</td>\n",
       "      <td>...</td>\n",
       "      <td>22.0</td>\n",
       "      <td>38.0</td>\n",
       "      <td>1610612760</td>\n",
       "      <td>114.0</td>\n",
       "      <td>0.462</td>\n",
       "      <td>0.680</td>\n",
       "      <td>0.333</td>\n",
       "      <td>22.0</td>\n",
       "      <td>52.0</td>\n",
       "      <td>0</td>\n",
       "    </tr>\n",
       "    <tr>\n",
       "      <th>2</th>\n",
       "      <td>2021-03-21</td>\n",
       "      <td>22000646</td>\n",
       "      <td>Final</td>\n",
       "      <td>1610612743</td>\n",
       "      <td>1610612740</td>\n",
       "      <td>2020</td>\n",
       "      <td>1610612743</td>\n",
       "      <td>108.0</td>\n",
       "      <td>0.500</td>\n",
       "      <td>0.800</td>\n",
       "      <td>...</td>\n",
       "      <td>30.0</td>\n",
       "      <td>37.0</td>\n",
       "      <td>1610612740</td>\n",
       "      <td>113.0</td>\n",
       "      <td>0.482</td>\n",
       "      <td>0.767</td>\n",
       "      <td>0.286</td>\n",
       "      <td>26.0</td>\n",
       "      <td>45.0</td>\n",
       "      <td>0</td>\n",
       "    </tr>\n",
       "  </tbody>\n",
       "</table>\n",
       "<p>3 rows × 21 columns</p>\n",
       "</div>"
      ],
      "text/plain": [
       "  GAME_DATE_EST   GAME_ID GAME_STATUS_TEXT  HOME_TEAM_ID  VISITOR_TEAM_ID  \\\n",
       "0    2021-03-21  22000645            Final    1610612748       1610612754   \n",
       "1    2021-03-21  22000016            Final    1610612745       1610612760   \n",
       "2    2021-03-21  22000646            Final    1610612743       1610612740   \n",
       "\n",
       "   SEASON  TEAM_ID_home  PTS_home  FG_PCT_home  FT_PCT_home  ...  AST_home  \\\n",
       "0    2020    1610612748     106.0        0.402        0.826  ...      27.0   \n",
       "1    2020    1610612745     112.0        0.494        0.741  ...      22.0   \n",
       "2    2020    1610612743     108.0        0.500        0.800  ...      30.0   \n",
       "\n",
       "   REB_home  TEAM_ID_away  PTS_away  FG_PCT_away  FT_PCT_away  FG3_PCT_away  \\\n",
       "0      51.0    1610612754     109.0        0.388        0.900         0.333   \n",
       "1      38.0    1610612760     114.0        0.462        0.680         0.333   \n",
       "2      37.0    1610612740     113.0        0.482        0.767         0.286   \n",
       "\n",
       "   AST_away  REB_away  HOME_TEAM_WINS  \n",
       "0      27.0      50.0               0  \n",
       "1      22.0      52.0               0  \n",
       "2      26.0      45.0               0  \n",
       "\n",
       "[3 rows x 21 columns]"
      ]
     },
     "execution_count": 8,
     "metadata": {},
     "output_type": "execute_result"
    }
   ],
   "source": [
    "games_df[:3]"
   ]
  },
  {
   "cell_type": "code",
   "execution_count": 9,
   "metadata": {},
   "outputs": [
    {
     "data": {
      "text/html": [
       "<div>\n",
       "<style scoped>\n",
       "    .dataframe tbody tr th:only-of-type {\n",
       "        vertical-align: middle;\n",
       "    }\n",
       "\n",
       "    .dataframe tbody tr th {\n",
       "        vertical-align: top;\n",
       "    }\n",
       "\n",
       "    .dataframe thead th {\n",
       "        text-align: right;\n",
       "    }\n",
       "</style>\n",
       "<table border=\"1\" class=\"dataframe\">\n",
       "  <thead>\n",
       "    <tr style=\"text-align: right;\">\n",
       "      <th></th>\n",
       "      <th>GAME_ID</th>\n",
       "      <th>TEAM_ID</th>\n",
       "      <th>TEAM_ABBREVIATION</th>\n",
       "      <th>TEAM_CITY</th>\n",
       "      <th>PLAYER_ID</th>\n",
       "      <th>PLAYER_NAME</th>\n",
       "      <th>START_POSITION</th>\n",
       "      <th>COMMENT</th>\n",
       "      <th>MIN</th>\n",
       "      <th>FGM</th>\n",
       "      <th>...</th>\n",
       "      <th>OREB</th>\n",
       "      <th>DREB</th>\n",
       "      <th>REB</th>\n",
       "      <th>AST</th>\n",
       "      <th>STL</th>\n",
       "      <th>BLK</th>\n",
       "      <th>TO</th>\n",
       "      <th>PF</th>\n",
       "      <th>PTS</th>\n",
       "      <th>PLUS_MINUS</th>\n",
       "    </tr>\n",
       "  </thead>\n",
       "  <tbody>\n",
       "    <tr>\n",
       "      <th>0</th>\n",
       "      <td>22000645</td>\n",
       "      <td>1610612754</td>\n",
       "      <td>IND</td>\n",
       "      <td>Indiana</td>\n",
       "      <td>203200</td>\n",
       "      <td>Justin Holiday</td>\n",
       "      <td>F</td>\n",
       "      <td>NaN</td>\n",
       "      <td>41:45</td>\n",
       "      <td>5.0</td>\n",
       "      <td>...</td>\n",
       "      <td>0.0</td>\n",
       "      <td>5.0</td>\n",
       "      <td>5.0</td>\n",
       "      <td>2.0</td>\n",
       "      <td>2.0</td>\n",
       "      <td>2.0</td>\n",
       "      <td>2.0</td>\n",
       "      <td>2.0</td>\n",
       "      <td>15.0</td>\n",
       "      <td>8.0</td>\n",
       "    </tr>\n",
       "    <tr>\n",
       "      <th>1</th>\n",
       "      <td>22000645</td>\n",
       "      <td>1610612754</td>\n",
       "      <td>IND</td>\n",
       "      <td>Indiana</td>\n",
       "      <td>1627734</td>\n",
       "      <td>Domantas Sabonis</td>\n",
       "      <td>F</td>\n",
       "      <td>NaN</td>\n",
       "      <td>35:06</td>\n",
       "      <td>5.0</td>\n",
       "      <td>...</td>\n",
       "      <td>2.0</td>\n",
       "      <td>9.0</td>\n",
       "      <td>11.0</td>\n",
       "      <td>1.0</td>\n",
       "      <td>3.0</td>\n",
       "      <td>0.0</td>\n",
       "      <td>5.0</td>\n",
       "      <td>6.0</td>\n",
       "      <td>17.0</td>\n",
       "      <td>-2.0</td>\n",
       "    </tr>\n",
       "    <tr>\n",
       "      <th>2</th>\n",
       "      <td>22000645</td>\n",
       "      <td>1610612754</td>\n",
       "      <td>IND</td>\n",
       "      <td>Indiana</td>\n",
       "      <td>1626167</td>\n",
       "      <td>Myles Turner</td>\n",
       "      <td>C</td>\n",
       "      <td>NaN</td>\n",
       "      <td>29:58</td>\n",
       "      <td>4.0</td>\n",
       "      <td>...</td>\n",
       "      <td>1.0</td>\n",
       "      <td>5.0</td>\n",
       "      <td>6.0</td>\n",
       "      <td>1.0</td>\n",
       "      <td>0.0</td>\n",
       "      <td>5.0</td>\n",
       "      <td>2.0</td>\n",
       "      <td>3.0</td>\n",
       "      <td>16.0</td>\n",
       "      <td>6.0</td>\n",
       "    </tr>\n",
       "  </tbody>\n",
       "</table>\n",
       "<p>3 rows × 28 columns</p>\n",
       "</div>"
      ],
      "text/plain": [
       "    GAME_ID     TEAM_ID TEAM_ABBREVIATION TEAM_CITY  PLAYER_ID  \\\n",
       "0  22000645  1610612754               IND   Indiana     203200   \n",
       "1  22000645  1610612754               IND   Indiana    1627734   \n",
       "2  22000645  1610612754               IND   Indiana    1626167   \n",
       "\n",
       "        PLAYER_NAME START_POSITION COMMENT    MIN  FGM  ...  OREB  DREB   REB  \\\n",
       "0    Justin Holiday              F     NaN  41:45  5.0  ...   0.0   5.0   5.0   \n",
       "1  Domantas Sabonis              F     NaN  35:06  5.0  ...   2.0   9.0  11.0   \n",
       "2      Myles Turner              C     NaN  29:58  4.0  ...   1.0   5.0   6.0   \n",
       "\n",
       "   AST  STL  BLK   TO   PF   PTS  PLUS_MINUS  \n",
       "0  2.0  2.0  2.0  2.0  2.0  15.0         8.0  \n",
       "1  1.0  3.0  0.0  5.0  6.0  17.0        -2.0  \n",
       "2  1.0  0.0  5.0  2.0  3.0  16.0         6.0  \n",
       "\n",
       "[3 rows x 28 columns]"
      ]
     },
     "execution_count": 9,
     "metadata": {},
     "output_type": "execute_result"
    }
   ],
   "source": [
    "game_details_df[:3]"
   ]
  },
  {
   "cell_type": "code",
   "execution_count": 10,
   "metadata": {},
   "outputs": [
    {
     "data": {
      "text/html": [
       "<div>\n",
       "<style scoped>\n",
       "    .dataframe tbody tr th:only-of-type {\n",
       "        vertical-align: middle;\n",
       "    }\n",
       "\n",
       "    .dataframe tbody tr th {\n",
       "        vertical-align: top;\n",
       "    }\n",
       "\n",
       "    .dataframe thead th {\n",
       "        text-align: right;\n",
       "    }\n",
       "</style>\n",
       "<table border=\"1\" class=\"dataframe\">\n",
       "  <thead>\n",
       "    <tr style=\"text-align: right;\">\n",
       "      <th></th>\n",
       "      <th>TEAM_ID</th>\n",
       "      <th>LEAGUE_ID</th>\n",
       "      <th>SEASON_ID</th>\n",
       "      <th>STANDINGSDATE</th>\n",
       "      <th>CONFERENCE</th>\n",
       "      <th>TEAM</th>\n",
       "      <th>G</th>\n",
       "      <th>W</th>\n",
       "      <th>L</th>\n",
       "      <th>W_PCT</th>\n",
       "      <th>HOME_RECORD</th>\n",
       "      <th>ROAD_RECORD</th>\n",
       "      <th>RETURNTOPLAY</th>\n",
       "    </tr>\n",
       "  </thead>\n",
       "  <tbody>\n",
       "    <tr>\n",
       "      <th>0</th>\n",
       "      <td>1610612762</td>\n",
       "      <td>0</td>\n",
       "      <td>22020</td>\n",
       "      <td>2021-03-21</td>\n",
       "      <td>West</td>\n",
       "      <td>Utah</td>\n",
       "      <td>41</td>\n",
       "      <td>30</td>\n",
       "      <td>11</td>\n",
       "      <td>0.732</td>\n",
       "      <td>16-2</td>\n",
       "      <td>14-9</td>\n",
       "      <td>NaN</td>\n",
       "    </tr>\n",
       "    <tr>\n",
       "      <th>1</th>\n",
       "      <td>1610612756</td>\n",
       "      <td>0</td>\n",
       "      <td>22020</td>\n",
       "      <td>2021-03-21</td>\n",
       "      <td>West</td>\n",
       "      <td>Phoenix</td>\n",
       "      <td>41</td>\n",
       "      <td>28</td>\n",
       "      <td>13</td>\n",
       "      <td>0.683</td>\n",
       "      <td>15-8</td>\n",
       "      <td>13-5</td>\n",
       "      <td>NaN</td>\n",
       "    </tr>\n",
       "    <tr>\n",
       "      <th>2</th>\n",
       "      <td>1610612747</td>\n",
       "      <td>0</td>\n",
       "      <td>22020</td>\n",
       "      <td>2021-03-21</td>\n",
       "      <td>West</td>\n",
       "      <td>L.A. Lakers</td>\n",
       "      <td>43</td>\n",
       "      <td>28</td>\n",
       "      <td>15</td>\n",
       "      <td>0.651</td>\n",
       "      <td>14-9</td>\n",
       "      <td>14-6</td>\n",
       "      <td>NaN</td>\n",
       "    </tr>\n",
       "  </tbody>\n",
       "</table>\n",
       "</div>"
      ],
      "text/plain": [
       "      TEAM_ID  LEAGUE_ID  SEASON_ID STANDINGSDATE CONFERENCE         TEAM   G  \\\n",
       "0  1610612762          0      22020    2021-03-21       West         Utah  41   \n",
       "1  1610612756          0      22020    2021-03-21       West      Phoenix  41   \n",
       "2  1610612747          0      22020    2021-03-21       West  L.A. Lakers  43   \n",
       "\n",
       "    W   L  W_PCT HOME_RECORD ROAD_RECORD  RETURNTOPLAY  \n",
       "0  30  11  0.732        16-2        14-9           NaN  \n",
       "1  28  13  0.683        15-8        13-5           NaN  \n",
       "2  28  15  0.651        14-9        14-6           NaN  "
      ]
     },
     "execution_count": 10,
     "metadata": {},
     "output_type": "execute_result"
    }
   ],
   "source": [
    "ranking_df[:3]"
   ]
  },
  {
   "cell_type": "code",
   "execution_count": 11,
   "metadata": {},
   "outputs": [
    {
     "data": {
      "text/html": [
       "<div>\n",
       "<style scoped>\n",
       "    .dataframe tbody tr th:only-of-type {\n",
       "        vertical-align: middle;\n",
       "    }\n",
       "\n",
       "    .dataframe tbody tr th {\n",
       "        vertical-align: top;\n",
       "    }\n",
       "\n",
       "    .dataframe thead th {\n",
       "        text-align: right;\n",
       "    }\n",
       "</style>\n",
       "<table border=\"1\" class=\"dataframe\">\n",
       "  <thead>\n",
       "    <tr style=\"text-align: right;\">\n",
       "      <th></th>\n",
       "      <th>LEAGUE_ID</th>\n",
       "      <th>TEAM_ID</th>\n",
       "      <th>MIN_YEAR</th>\n",
       "      <th>MAX_YEAR</th>\n",
       "      <th>ABBREVIATION</th>\n",
       "      <th>NICKNAME</th>\n",
       "      <th>YEARFOUNDED</th>\n",
       "      <th>CITY</th>\n",
       "      <th>ARENA</th>\n",
       "      <th>ARENACAPACITY</th>\n",
       "      <th>OWNER</th>\n",
       "      <th>GENERALMANAGER</th>\n",
       "      <th>HEADCOACH</th>\n",
       "      <th>DLEAGUEAFFILIATION</th>\n",
       "    </tr>\n",
       "  </thead>\n",
       "  <tbody>\n",
       "    <tr>\n",
       "      <th>0</th>\n",
       "      <td>0</td>\n",
       "      <td>1610612737</td>\n",
       "      <td>1949</td>\n",
       "      <td>2019</td>\n",
       "      <td>ATL</td>\n",
       "      <td>Hawks</td>\n",
       "      <td>1949</td>\n",
       "      <td>Atlanta</td>\n",
       "      <td>State Farm Arena</td>\n",
       "      <td>18729.0</td>\n",
       "      <td>Tony Ressler</td>\n",
       "      <td>Travis Schlenk</td>\n",
       "      <td>Lloyd Pierce</td>\n",
       "      <td>Erie Bayhawks</td>\n",
       "    </tr>\n",
       "    <tr>\n",
       "      <th>1</th>\n",
       "      <td>0</td>\n",
       "      <td>1610612738</td>\n",
       "      <td>1946</td>\n",
       "      <td>2019</td>\n",
       "      <td>BOS</td>\n",
       "      <td>Celtics</td>\n",
       "      <td>1946</td>\n",
       "      <td>Boston</td>\n",
       "      <td>TD Garden</td>\n",
       "      <td>18624.0</td>\n",
       "      <td>Wyc Grousbeck</td>\n",
       "      <td>Danny Ainge</td>\n",
       "      <td>Brad Stevens</td>\n",
       "      <td>Maine Red Claws</td>\n",
       "    </tr>\n",
       "    <tr>\n",
       "      <th>2</th>\n",
       "      <td>0</td>\n",
       "      <td>1610612740</td>\n",
       "      <td>2002</td>\n",
       "      <td>2019</td>\n",
       "      <td>NOP</td>\n",
       "      <td>Pelicans</td>\n",
       "      <td>2002</td>\n",
       "      <td>New Orleans</td>\n",
       "      <td>Smoothie King Center</td>\n",
       "      <td>NaN</td>\n",
       "      <td>Tom Benson</td>\n",
       "      <td>Trajan Langdon</td>\n",
       "      <td>Alvin Gentry</td>\n",
       "      <td>No Affiliate</td>\n",
       "    </tr>\n",
       "  </tbody>\n",
       "</table>\n",
       "</div>"
      ],
      "text/plain": [
       "   LEAGUE_ID     TEAM_ID  MIN_YEAR  MAX_YEAR ABBREVIATION  NICKNAME  \\\n",
       "0          0  1610612737      1949      2019          ATL     Hawks   \n",
       "1          0  1610612738      1946      2019          BOS   Celtics   \n",
       "2          0  1610612740      2002      2019          NOP  Pelicans   \n",
       "\n",
       "   YEARFOUNDED         CITY                 ARENA  ARENACAPACITY  \\\n",
       "0         1949      Atlanta      State Farm Arena        18729.0   \n",
       "1         1946       Boston             TD Garden        18624.0   \n",
       "2         2002  New Orleans  Smoothie King Center            NaN   \n",
       "\n",
       "           OWNER  GENERALMANAGER     HEADCOACH DLEAGUEAFFILIATION  \n",
       "0   Tony Ressler  Travis Schlenk  Lloyd Pierce      Erie Bayhawks  \n",
       "1  Wyc Grousbeck     Danny Ainge  Brad Stevens    Maine Red Claws  \n",
       "2     Tom Benson  Trajan Langdon  Alvin Gentry       No Affiliate  "
      ]
     },
     "execution_count": 11,
     "metadata": {},
     "output_type": "execute_result"
    }
   ],
   "source": [
    "teams_df[:3]"
   ]
  },
  {
   "cell_type": "code",
   "execution_count": 12,
   "metadata": {},
   "outputs": [],
   "source": [
    "#Data Preperation, lets visualize the scope of each cvs file to see what may need to be cleaned up"
   ]
  },
  {
   "cell_type": "code",
   "execution_count": 13,
   "metadata": {},
   "outputs": [],
   "source": [
    "#players"
   ]
  },
  {
   "cell_type": "code",
   "execution_count": 14,
   "metadata": {},
   "outputs": [
    {
     "data": {
      "text/plain": [
       "(7228, 4)"
      ]
     },
     "execution_count": 14,
     "metadata": {},
     "output_type": "execute_result"
    }
   ],
   "source": [
    "players_df.shape"
   ]
  },
  {
   "cell_type": "code",
   "execution_count": 15,
   "metadata": {},
   "outputs": [
    {
     "name": "stdout",
     "output_type": "stream",
     "text": [
      "<class 'pandas.core.frame.DataFrame'>\n",
      "RangeIndex: 7228 entries, 0 to 7227\n",
      "Data columns (total 4 columns):\n",
      " #   Column       Non-Null Count  Dtype \n",
      "---  ------       --------------  ----- \n",
      " 0   PLAYER_NAME  7228 non-null   object\n",
      " 1   TEAM_ID      7228 non-null   int64 \n",
      " 2   PLAYER_ID    7228 non-null   int64 \n",
      " 3   SEASON       7228 non-null   int64 \n",
      "dtypes: int64(3), object(1)\n",
      "memory usage: 226.0+ KB\n"
     ]
    }
   ],
   "source": [
    "players_df.info()\n",
    "#no nulls"
   ]
  },
  {
   "cell_type": "code",
   "execution_count": 16,
   "metadata": {},
   "outputs": [
    {
     "data": {
      "text/plain": [
       "10"
      ]
     },
     "execution_count": 16,
     "metadata": {},
     "output_type": "execute_result"
    }
   ],
   "source": [
    "player_range = players_df.SEASON.max() - players_df.SEASON.min()\n",
    "#player season range is ten years\n",
    "player_range"
   ]
  },
  {
   "cell_type": "code",
   "execution_count": 17,
   "metadata": {},
   "outputs": [],
   "source": [
    "#to-do list for players\n",
    "#drop duplicates"
   ]
  },
  {
   "cell_type": "code",
   "execution_count": 18,
   "metadata": {},
   "outputs": [],
   "source": [
    "#GAMES "
   ]
  },
  {
   "cell_type": "code",
   "execution_count": 19,
   "metadata": {},
   "outputs": [
    {
     "data": {
      "text/plain": [
       "(24195, 21)"
      ]
     },
     "execution_count": 19,
     "metadata": {},
     "output_type": "execute_result"
    }
   ],
   "source": [
    "games_df.shape"
   ]
  },
  {
   "cell_type": "code",
   "execution_count": 20,
   "metadata": {},
   "outputs": [
    {
     "data": {
      "text/plain": [
       "Index(['GAME_DATE_EST', 'GAME_ID', 'GAME_STATUS_TEXT', 'HOME_TEAM_ID',\n",
       "       'VISITOR_TEAM_ID', 'SEASON', 'TEAM_ID_home', 'PTS_home', 'FG_PCT_home',\n",
       "       'FT_PCT_home', 'FG3_PCT_home', 'AST_home', 'REB_home', 'TEAM_ID_away',\n",
       "       'PTS_away', 'FG_PCT_away', 'FT_PCT_away', 'FG3_PCT_away', 'AST_away',\n",
       "       'REB_away', 'HOME_TEAM_WINS'],\n",
       "      dtype='object')"
      ]
     },
     "execution_count": 20,
     "metadata": {},
     "output_type": "execute_result"
    }
   ],
   "source": [
    "games_df.columns"
   ]
  },
  {
   "cell_type": "code",
   "execution_count": 21,
   "metadata": {},
   "outputs": [
    {
     "name": "stdout",
     "output_type": "stream",
     "text": [
      "<class 'pandas.core.frame.DataFrame'>\n",
      "RangeIndex: 24195 entries, 0 to 24194\n",
      "Data columns (total 21 columns):\n",
      " #   Column            Non-Null Count  Dtype  \n",
      "---  ------            --------------  -----  \n",
      " 0   GAME_DATE_EST     24195 non-null  object \n",
      " 1   GAME_ID           24195 non-null  int64  \n",
      " 2   GAME_STATUS_TEXT  24195 non-null  object \n",
      " 3   HOME_TEAM_ID      24195 non-null  int64  \n",
      " 4   VISITOR_TEAM_ID   24195 non-null  int64  \n",
      " 5   SEASON            24195 non-null  int64  \n",
      " 6   TEAM_ID_home      24195 non-null  int64  \n",
      " 7   PTS_home          24096 non-null  float64\n",
      " 8   FG_PCT_home       24096 non-null  float64\n",
      " 9   FT_PCT_home       24096 non-null  float64\n",
      " 10  FG3_PCT_home      24096 non-null  float64\n",
      " 11  AST_home          24096 non-null  float64\n",
      " 12  REB_home          24096 non-null  float64\n",
      " 13  TEAM_ID_away      24195 non-null  int64  \n",
      " 14  PTS_away          24096 non-null  float64\n",
      " 15  FG_PCT_away       24096 non-null  float64\n",
      " 16  FT_PCT_away       24096 non-null  float64\n",
      " 17  FG3_PCT_away      24096 non-null  float64\n",
      " 18  AST_away          24096 non-null  float64\n",
      " 19  REB_away          24096 non-null  float64\n",
      " 20  HOME_TEAM_WINS    24195 non-null  int64  \n",
      "dtypes: float64(12), int64(7), object(2)\n",
      "memory usage: 3.9+ MB\n"
     ]
    }
   ],
   "source": [
    "games_df.info()\n",
    "#some nulls, lets visualize those nulls to find out what the are"
   ]
  },
  {
   "cell_type": "code",
   "execution_count": 22,
   "metadata": {},
   "outputs": [
    {
     "data": {
      "text/plain": [
       "PTS_home        99\n",
       "FG_PCT_home     99\n",
       "FT_PCT_home     99\n",
       "FG3_PCT_home    99\n",
       "AST_home        99\n",
       "REB_home        99\n",
       "PTS_away        99\n",
       "FG_PCT_away     99\n",
       "FT_PCT_away     99\n",
       "FG3_PCT_away    99\n",
       "AST_away        99\n",
       "REB_away        99\n",
       "dtype: int64"
      ]
     },
     "execution_count": 22,
     "metadata": {},
     "output_type": "execute_result"
    }
   ],
   "source": [
    "#99 games missing\n",
    "missing = games_df.isnull().sum()\n",
    "missing[missing > 0]"
   ]
  },
  {
   "cell_type": "code",
   "execution_count": 23,
   "metadata": {},
   "outputs": [
    {
     "data": {
      "text/plain": [
       "99"
      ]
     },
     "execution_count": 23,
     "metadata": {},
     "output_type": "execute_result"
    }
   ],
   "source": [
    "games_df[(games_df['PTS_home'].isnull()) & (games_df[\"SEASON\"] == 2003)].GAME_ID.count()\n",
    "#looks like the 99 games missing are from the 2003 season"
   ]
  },
  {
   "cell_type": "code",
   "execution_count": 24,
   "metadata": {},
   "outputs": [],
   "source": [
    "#rescope the data to only look at the 2004 season and up\n",
    "#drop duplicates"
   ]
  },
  {
   "cell_type": "code",
   "execution_count": 25,
   "metadata": {},
   "outputs": [
    {
     "data": {
      "text/plain": [
       "(602767, 28)"
      ]
     },
     "execution_count": 25,
     "metadata": {},
     "output_type": "execute_result"
    }
   ],
   "source": [
    "#GAME DETAILS\n",
    "game_details_df.shape"
   ]
  },
  {
   "cell_type": "code",
   "execution_count": 42,
   "metadata": {},
   "outputs": [
    {
     "name": "stdout",
     "output_type": "stream",
     "text": [
      "<class 'pandas.core.frame.DataFrame'>\n",
      "RangeIndex: 602767 entries, 0 to 602766\n",
      "Data columns (total 28 columns):\n",
      " #   Column             Non-Null Count   Dtype  \n",
      "---  ------             --------------   -----  \n",
      " 0   GAME_ID            602767 non-null  int64  \n",
      " 1   TEAM_ID            602767 non-null  int64  \n",
      " 2   TEAM_ABBREVIATION  602767 non-null  object \n",
      " 3   TEAM_CITY          602767 non-null  object \n",
      " 4   PLAYER_ID          602767 non-null  int64  \n",
      " 5   PLAYER_NAME        602767 non-null  object \n",
      " 6   START_POSITION     231035 non-null  object \n",
      " 7   COMMENT            97435 non-null   object \n",
      " 8   MIN                505331 non-null  object \n",
      " 9   FGM                505331 non-null  float64\n",
      " 10  FGA                505331 non-null  float64\n",
      " 11  FG_PCT             505331 non-null  float64\n",
      " 12  FG3M               505331 non-null  float64\n",
      " 13  FG3A               505331 non-null  float64\n",
      " 14  FG3_PCT            505331 non-null  float64\n",
      " 15  FTM                505331 non-null  float64\n",
      " 16  FTA                505331 non-null  float64\n",
      " 17  FT_PCT             505331 non-null  float64\n",
      " 18  OREB               505331 non-null  float64\n",
      " 19  DREB               505331 non-null  float64\n",
      " 20  REB                505331 non-null  float64\n",
      " 21  AST                505331 non-null  float64\n",
      " 22  STL                505331 non-null  float64\n",
      " 23  BLK                505331 non-null  float64\n",
      " 24  TO                 505331 non-null  float64\n",
      " 25  PF                 505331 non-null  float64\n",
      " 26  PTS                505331 non-null  float64\n",
      " 27  PLUS_MINUS         481670 non-null  float64\n",
      "dtypes: float64(19), int64(3), object(6)\n",
      "memory usage: 128.8+ MB\n"
     ]
    }
   ],
   "source": [
    "game_details_df.info()\n",
    "#the game_details from the 99 games in 2003 season need to be removed"
   ]
  },
  {
   "cell_type": "code",
   "execution_count": null,
   "metadata": {},
   "outputs": [],
   "source": [
    "#rescope the data to only look at the 2004 season and up\n",
    "#drop duplicates"
   ]
  },
  {
   "cell_type": "code",
   "execution_count": null,
   "metadata": {},
   "outputs": [],
   "source": []
  }
 ],
 "metadata": {
  "kernelspec": {
   "display_name": "Python 3",
   "language": "python",
   "name": "python3"
  },
  "language_info": {
   "codemirror_mode": {
    "name": "ipython",
    "version": 3
   },
   "file_extension": ".py",
   "mimetype": "text/x-python",
   "name": "python",
   "nbconvert_exporter": "python",
   "pygments_lexer": "ipython3",
   "version": "3.8.5"
  }
 },
 "nbformat": 4,
 "nbformat_minor": 4
}
